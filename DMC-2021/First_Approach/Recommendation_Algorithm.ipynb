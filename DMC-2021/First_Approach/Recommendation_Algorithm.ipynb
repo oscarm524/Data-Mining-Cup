{
 "cells": [
  {
   "cell_type": "code",
   "execution_count": null,
   "metadata": {},
   "outputs": [],
   "source": [
    "###############\n",
    "## Libraries ##\n",
    "###############\n",
    "\n",
    "import boto3\n",
    "import pandas as pd\n",
    "import numpy as np\n",
    "import Book_Recommendation\n",
    "import kNN\n",
    "\n",
    "s3 = boto3.resource('s3')\n",
    "bucket_name = 'dmc-2021'\n",
    "bucket = s3.Bucket(bucket_name)\n",
    "\n",
    "## Defining files names\n",
    "file_key_1 = 'items_final_newer.csv'\n",
    "file_key_2 = 'transactions.csv'\n",
    "file_key_3 = 'evaluation.csv'\n",
    "\n",
    "bucket_object_1 = bucket.Object(file_key_1)\n",
    "file_object_1 = bucket_object_1.get()\n",
    "file_content_stream_1 = file_object_1.get('Body')\n",
    "\n",
    "bucket_object_2 = bucket.Object(file_key_2)\n",
    "file_object_2 = bucket_object_2.get()\n",
    "file_content_stream_2 = file_object_2.get('Body')\n",
    "\n",
    "bucket_object_3 = bucket.Object(file_key_3)\n",
    "file_object_3 = bucket_object_3.get()\n",
    "file_content_stream_3 = file_object_3.get('Body')\n",
    "\n",
    "## Reading csv from s3 buckets\n",
    "items = pd.read_csv(file_content_stream_1)\n",
    "transactions = pd.read_csv(file_content_stream_2, sep = '|')\n",
    "evaluation  = pd.read_csv(file_content_stream_3)\n",
    "\n",
    "## Running book recommendation engine (approach 1)\n",
    "similarity_measure = 'Euclidean'\n",
    "recommendation_1 = Book_Recommendation.Book_Recommendation(items, transactions, evaluation, similarity_measure)"
   ]
  }
 ],
 "metadata": {
  "kernelspec": {
   "display_name": "conda_python3",
   "language": "python",
   "name": "conda_python3"
  },
  "language_info": {
   "codemirror_mode": {
    "name": "ipython",
    "version": 3
   },
   "file_extension": ".py",
   "mimetype": "text/x-python",
   "name": "python",
   "nbconvert_exporter": "python",
   "pygments_lexer": "ipython3",
   "version": "3.6.13"
  }
 },
 "nbformat": 4,
 "nbformat_minor": 4
}
