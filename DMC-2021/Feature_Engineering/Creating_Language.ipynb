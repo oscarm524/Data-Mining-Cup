{
 "cells": [
  {
   "cell_type": "code",
   "execution_count": null,
   "metadata": {},
   "outputs": [],
   "source": [
    "## Trying to find the best method of determining language of books\n",
    "import pandas as pd\n",
    "import numpy as np\n",
    "\n",
    "items = pd.read_csv('items.csv', sep = '|')"
   ]
  },
  {
   "cell_type": "code",
   "execution_count": null,
   "metadata": {},
   "outputs": [],
   "source": [
    "count = 0\n",
    "item_counter = 0\n",
    "\n",
    "for title in items['title']:\n",
    "    if (len(title) < 4):\n",
    "        print('## Title: ', title)\n",
    "        print(\"items = items.drop(\", items.loc[count, 'temp'], ')')\n",
    "        item_counter = item_counter + 1\n",
    "    count = count + 1\n",
    "\n",
    "item_counter"
   ]
  },
  {
   "cell_type": "code",
   "execution_count": null,
   "metadata": {},
   "outputs": [],
   "source": [
    "## Here, we are removing the observations that language identifying softwares cannot handle, \n",
    "## such as titles that are only numbers and titles that are too short. We can manually input \n",
    "## these observations back in later with their languages\n",
    "\n",
    "items = items.drop(124)\n",
    "items = items.drop(582)"
   ]
  },
  {
   "cell_type": "code",
   "execution_count": null,
   "metadata": {},
   "outputs": [],
   "source": [
    "## Title: 1984\n",
    "items = items.drop(736)"
   ]
  },
  {
   "cell_type": "code",
   "execution_count": null,
   "metadata": {},
   "outputs": [],
   "source": [
    "## Title: 1984\n",
    "items = items.drop(3660)"
   ]
  },
  {
   "cell_type": "code",
   "execution_count": null,
   "metadata": {},
   "outputs": [],
   "source": [
    "## Title: 381\n",
    "items = items.drop(1282)"
   ]
  },
  {
   "cell_type": "code",
   "execution_count": null,
   "metadata": {},
   "outputs": [],
   "source": [
    "## Title: 2034\n",
    "items = items.drop(3871)"
   ]
  },
  {
   "cell_type": "code",
   "execution_count": null,
   "metadata": {},
   "outputs": [],
   "source": [
    "## Title: 2021\n",
    "items = items.drop(6224)"
   ]
  },
  {
   "cell_type": "code",
   "execution_count": null,
   "metadata": {},
   "outputs": [],
   "source": [
    "## Title: 2037\n",
    "items = items.drop(7458)"
   ]
  },
  {
   "cell_type": "code",
   "execution_count": null,
   "metadata": {},
   "outputs": [],
   "source": [
    "## Title: 43\n",
    "items = items.drop(10749)"
   ]
  },
  {
   "cell_type": "code",
   "execution_count": null,
   "metadata": {},
   "outputs": [],
   "source": [
    "## Title: 2069\n",
    "items = items.drop(10944)"
   ]
  },
  {
   "cell_type": "code",
   "execution_count": null,
   "metadata": {},
   "outputs": [],
   "source": [
    "## Title: 2121\n",
    "items = items.drop(13490)"
   ]
  },
  {
   "cell_type": "code",
   "execution_count": null,
   "metadata": {},
   "outputs": [],
   "source": [
    "## Title: 2394\n",
    "items = items.drop(13888)"
   ]
  },
  {
   "cell_type": "code",
   "execution_count": null,
   "metadata": {},
   "outputs": [],
   "source": [
    "## Title: 2121\n",
    "items = items.drop(15060)"
   ]
  },
  {
   "cell_type": "code",
   "execution_count": null,
   "metadata": {},
   "outputs": [],
   "source": [
    "## Title: 2048\n",
    "items = items.drop(15940)"
   ]
  },
  {
   "cell_type": "code",
   "execution_count": null,
   "metadata": {},
   "outputs": [],
   "source": [
    "## Title: 17\n",
    "items = items.drop(15555)"
   ]
  },
  {
   "cell_type": "code",
   "execution_count": null,
   "metadata": {},
   "outputs": [],
   "source": [
    "## Title: 2121\n",
    "items = items.drop(17732)"
   ]
  },
  {
   "cell_type": "code",
   "execution_count": null,
   "metadata": {},
   "outputs": [],
   "source": [
    "## Title: 1632\n",
    "items = items.drop(21448)"
   ]
  },
  {
   "cell_type": "code",
   "execution_count": null,
   "metadata": {},
   "outputs": [],
   "source": [
    "## Title: Ferris@Bruns_LLC\n",
    "items = items.drop(21929)"
   ]
  },
  {
   "cell_type": "code",
   "execution_count": null,
   "metadata": {},
   "outputs": [],
   "source": [
    "## Title: 1814\n",
    "items = items.drop(23431)"
   ]
  },
  {
   "cell_type": "code",
   "execution_count": null,
   "metadata": {},
   "outputs": [],
   "source": [
    "## Title: 2012\n",
    "items = items.drop(25479)"
   ]
  },
  {
   "cell_type": "code",
   "execution_count": null,
   "metadata": {},
   "outputs": [],
   "source": [
    "## Title: 11\n",
    "items = items.drop(25567)"
   ]
  },
  {
   "cell_type": "code",
   "execution_count": null,
   "metadata": {},
   "outputs": [],
   "source": [
    "## Title: !!\n",
    "items = items.drop(31055)"
   ]
  },
  {
   "cell_type": "code",
   "execution_count": null,
   "metadata": {},
   "outputs": [],
   "source": [
    "## Title: Tajo@Bruns_LLC\n",
    "items = items.drop(32694)"
   ]
  },
  {
   "cell_type": "code",
   "execution_count": null,
   "metadata": {},
   "outputs": [],
   "source": [
    "## Title: 1,2,3\n",
    "items = items.drop(35645)"
   ]
  },
  {
   "cell_type": "code",
   "execution_count": null,
   "metadata": {},
   "outputs": [],
   "source": [
    "## Title: 110\n",
    "items = items.drop(39581)"
   ]
  },
  {
   "cell_type": "code",
   "execution_count": null,
   "metadata": {},
   "outputs": [],
   "source": [
    "## Title: 5:55\n",
    "items = items.drop(40733)"
   ]
  },
  {
   "cell_type": "code",
   "execution_count": null,
   "metadata": {},
   "outputs": [],
   "source": [
    "## Title: 1906\n",
    "items = items.drop(41657)"
   ]
  },
  {
   "cell_type": "code",
   "execution_count": null,
   "metadata": {},
   "outputs": [],
   "source": [
    "## Title: 1906\n",
    "items = items.drop(41664)"
   ]
  },
  {
   "cell_type": "code",
   "execution_count": null,
   "metadata": {},
   "outputs": [],
   "source": [
    "## Title: 2030\n",
    "items = items.drop(43450)"
   ]
  },
  {
   "cell_type": "code",
   "execution_count": null,
   "metadata": {},
   "outputs": [],
   "source": [
    "## Title: 2047\n",
    "items = items.drop(43766)"
   ]
  },
  {
   "cell_type": "code",
   "execution_count": null,
   "metadata": {},
   "outputs": [],
   "source": [
    "## Title: 2049\n",
    "items = items.drop(77770)"
   ]
  },
  {
   "cell_type": "code",
   "execution_count": null,
   "metadata": {},
   "outputs": [],
   "source": [
    "## Title: 444\n",
    "items = items.drop(44841)"
   ]
  },
  {
   "cell_type": "code",
   "execution_count": null,
   "metadata": {},
   "outputs": [],
   "source": [
    "## Title: 444\n",
    "items = items.drop(44842)"
   ]
  },
  {
   "cell_type": "code",
   "execution_count": null,
   "metadata": {},
   "outputs": [],
   "source": [
    "## Title: 2501\n",
    "items = items.drop(48254)"
   ]
  },
  {
   "cell_type": "code",
   "execution_count": null,
   "metadata": {},
   "outputs": [],
   "source": [
    "## Title: 2060\n",
    "items = items.drop(48905)"
   ]
  },
  {
   "cell_type": "code",
   "execution_count": null,
   "metadata": {},
   "outputs": [],
   "source": [
    "## Title: 5028\n",
    "items = items.drop(50669)"
   ]
  },
  {
   "cell_type": "code",
   "execution_count": null,
   "metadata": {},
   "outputs": [],
   "source": [
    "## Title: 2084\n",
    "items = items.drop(55060)"
   ]
  },
  {
   "cell_type": "code",
   "execution_count": null,
   "metadata": {},
   "outputs": [],
   "source": [
    "## Title: 2053\n",
    "items = items.drop(55370)"
   ]
  },
  {
   "cell_type": "code",
   "execution_count": null,
   "metadata": {},
   "outputs": [],
   "source": [
    "## Title: 1520-1522\n",
    "items = items.drop(55539)"
   ]
  },
  {
   "cell_type": "code",
   "execution_count": null,
   "metadata": {},
   "outputs": [],
   "source": [
    "## Title: 2145\n",
    "items = items.drop(61473)"
   ]
  },
  {
   "cell_type": "code",
   "execution_count": null,
   "metadata": {},
   "outputs": [],
   "source": [
    "## Title: 1523-1526\n",
    "items = items.drop(64005)"
   ]
  },
  {
   "cell_type": "code",
   "execution_count": null,
   "metadata": {},
   "outputs": [],
   "source": [
    "## Title: 1712\n",
    "items = items.drop(64441)"
   ]
  },
  {
   "cell_type": "code",
   "execution_count": null,
   "metadata": {},
   "outputs": [],
   "source": [
    "## Title: 2084\n",
    "items = items.drop(64706)"
   ]
  },
  {
   "cell_type": "code",
   "execution_count": null,
   "metadata": {},
   "outputs": [],
   "source": [
    "## Title: 2625\n",
    "items = items.drop(65362)"
   ]
  },
  {
   "cell_type": "code",
   "execution_count": null,
   "metadata": {},
   "outputs": [],
   "source": [
    "## Title: 2084\n",
    "items = items.drop(66980)"
   ]
  },
  {
   "cell_type": "code",
   "execution_count": null,
   "metadata": {},
   "outputs": [],
   "source": [
    "## Title: >\n",
    "items = items.drop(67092)"
   ]
  },
  {
   "cell_type": "code",
   "execution_count": null,
   "metadata": {},
   "outputs": [],
   "source": [
    "## Title: 2156\n",
    "items = items.drop(67283)"
   ]
  },
  {
   "cell_type": "code",
   "execution_count": null,
   "metadata": {},
   "outputs": [],
   "source": [
    "## Title: 6984\n",
    "items = items.drop(67286)"
   ]
  },
  {
   "cell_type": "code",
   "execution_count": null,
   "metadata": {},
   "outputs": [],
   "source": [
    "## Title: 12\n",
    "items = items.drop(69842)"
   ]
  },
  {
   "cell_type": "code",
   "execution_count": null,
   "metadata": {},
   "outputs": [],
   "source": [
    "## Title: 71%\n",
    "items = items.drop(72536)"
   ]
  },
  {
   "cell_type": "code",
   "execution_count": null,
   "metadata": {},
   "outputs": [],
   "source": [
    "## Title: 4\n",
    "items = items.drop(73961)"
   ]
  },
  {
   "cell_type": "code",
   "execution_count": null,
   "metadata": {},
   "outputs": [],
   "source": [
    "## Title:  Io\n",
    "items = items.drop( 136 )\n",
    "## Title:  Ava\n",
    "items = items.drop( 831 )\n",
    "## Title:  ABC\n",
    "items = items.drop( 3677 )\n",
    "## Title:  EMP\n",
    "items = items.drop( 4022 )\n",
    "## Title:  Hex\n",
    "items = items.drop( 4465 )\n",
    "## Title:  Wir\n",
    "items = items.drop( 4814 )\n",
    "## Title:  Boy\n",
    "items = items.drop( 5054 )\n",
    "## Title:  Oma\n",
    "items = items.drop( 5156 )\n",
    "## Title:  Nik\n",
    "items = items.drop( 5698 )\n",
    "## Title:  Kim\n",
    "items = items.drop( 6260 )\n",
    "## Title:  Pet\n",
    "items = items.drop( 6407 )\n",
    "## Title:  M\n",
    "items = items.drop( 6999 )\n",
    "## Title:  Äon\n",
    "items = items.drop( 7000 )\n",
    "## Title:  Ava\n",
    "items = items.drop( 7509 )\n",
    "## Title:  XX\n",
    "items = items.drop( 7963 )\n",
    "## Title:  Wir\n",
    "items = items.drop( 7999 )\n",
    "## Title:  Dry\n",
    "items = items.drop( 8895 )\n",
    "## Title:  Ash\n",
    "items = items.drop( 8896 )\n",
    "## Title:  FOX\n",
    "items = items.drop( 11149 )\n",
    "## Title:  Cut\n",
    "items = items.drop( 12669 )\n",
    "## Title:  ID\n",
    "items = items.drop( 12974 )\n",
    "## Title:  Ehi\n",
    "items = items.drop( 12987 )\n",
    "## Title:  ICE\n",
    "items = items.drop( 13010 )\n",
    "## Title:  We\n",
    "items = items.drop( 13142 )\n",
    "## Title:  Wir\n",
    "items = items.drop( 13234 )\n",
    "## Title:  Pax\n",
    "items = items.drop( 13532 )\n",
    "## Title:  Eve\n",
    "items = items.drop( 13748 )\n",
    "## Title:  Ye\n",
    "items = items.drop( 15053 )\n",
    "## Title:  Ral\n",
    "items = items.drop( 15379 )\n",
    "## Title:  Ten\n",
    "items = items.drop( 15749 )\n",
    "## Title:  BEX\n",
    "items = items.drop( 17253 )\n",
    "## Title:  Äon\n",
    "items = items.drop( 18532 )\n",
    "## Title:  Yo\n",
    "items = items.drop( 18912 )\n",
    "## Title:  ZPG\n",
    "items = items.drop( 19360 )\n",
    "## Title:  Liv\n",
    "items = items.drop( 19716 )\n",
    "## Title:  Q\n",
    "items = items.drop( 19982 )\n",
    "## Title:  Dig\n",
    "items = items.drop( 20544 )\n",
    "## Title:  Tin\n",
    "items = items.drop( 20751 )\n",
    "## Title:  Sea\n",
    "items = items.drop( 21159 )\n",
    "## Title:  SHE\n",
    "items = items.drop( 22397 )\n",
    "## Title:  Run\n",
    "items = items.drop( 22675 )\n",
    "## Title:  Noa\n",
    "items = items.drop( 22696 )\n",
    "## Title:  Vet\n",
    "items = items.drop( 22798 )\n",
    "## Title:  NDI\n",
    "items = items.drop( 23453 )\n",
    "## Title:  Mud\n",
    "items = items.drop( 23766 )\n",
    "## Title:  COR\n",
    "items = items.drop( 24594 )\n",
    "## Title:  Hb\n",
    "items = items.drop( 25835 )\n",
    "## Title:  Fee\n",
    "items = items.drop( 25957 )\n",
    "## Title:  Tao\n",
    "items = items.drop( 26453 )\n",
    "## Title:  Lie\n",
    "items = items.drop( 26609 )\n",
    "## Title:  KY\n",
    "items = items.drop( 26723 )\n",
    "## Title:  Sol\n",
    "items = items.drop( 27164 )\n",
    "## Title:  Eve\n",
    "items = items.drop( 27296 )\n",
    "## Title:  If\n",
    "items = items.drop( 28475 )\n",
    "## Title:  Ink\n",
    "items = items.drop( 29260 )\n",
    "## Title:  L\n",
    "items = items.drop( 29902 )\n",
    "## Title:  Zoe\n",
    "items = items.drop( 30029 )\n",
    "## Title:  Tex\n",
    "items = items.drop( 30314 )\n",
    "## Title:  Red\n",
    "items = items.drop( 31667 )\n",
    "## Title:  MAY\n",
    "items = items.drop( 32187 )\n",
    "## Title:  Aim\n",
    "items = items.drop( 32830 )\n",
    "## Title:  Son\n",
    "items = items.drop( 33415 )\n",
    "## Title:  L\n",
    "items = items.drop( 33504 )\n",
    "## Title:  Nil\n",
    "items = items.drop( 33672 )\n",
    "## Title:  Sie\n",
    "items = items.drop( 34131 )\n",
    "## Title:  Eva\n",
    "items = items.drop( 34908 )\n",
    "## Title:  Zel\n",
    "items = items.drop( 35241 )\n",
    "## Title:  Web\n",
    "items = items.drop( 35451 )\n",
    "## Title:  Hit\n",
    "items = items.drop( 36713 )\n",
    "## Title:  One\n",
    "items = items.drop( 36886 )\n",
    "## Title:  Mia\n",
    "items = items.drop( 37465 )\n",
    "## Title:  Sun\n",
    "items = items.drop( 37739 )\n",
    "## Title:  One\n",
    "items = items.drop( 38315 )\n",
    "## Title:  Up\n",
    "items = items.drop( 38619 )\n",
    "## Title:  Liv\n",
    "items = items.drop( 38885 )\n",
    "## Title:  Max\n",
    "items = items.drop( 39320 )\n",
    "## Title:  Run\n",
    "items = items.drop( 39328 )\n",
    "## Title:  Spy\n",
    "items = items.drop( 39776 )\n",
    "## Title:  Jim\n",
    "items = items.drop( 40474 )\n",
    "## Title:  A\n",
    "items = items.drop( 41040 )\n",
    "## Title:  Fir\n",
    "items = items.drop( 41156 )\n",
    "## Title:  GEN\n",
    "items = items.drop( 41759 )\n",
    "## Title:  Quo\n",
    "items = items.drop( 41762 )\n",
    "## Title:  Sky\n",
    "items = items.drop( 42360 )\n",
    "## Title:  Meh\n",
    "items = items.drop( 42427 )\n",
    "## Title:  Eco\n",
    "items = items.drop( 42706 )\n",
    "## Title:  Pug\n",
    "items = items.drop( 43203 )\n",
    "## Title:  A\n",
    "items = items.drop( 43324 )\n",
    "## Title:  May\n",
    "items = items.drop( 45723 )\n",
    "## Title:  I\n",
    "items = items.drop( 46217 )\n",
    "## Title:  Sue\n",
    "items = items.drop( 46444 )\n",
    "## Title:  Er?\n",
    "items = items.drop( 46586 )\n",
    "## Title:  Sin\n",
    "items = items.drop( 47139 )\n",
    "## Title:  Sam\n",
    "items = items.drop( 47752 )\n",
    "## Title:  Ohm\n",
    "items = items.drop( 48500 )\n",
    "## Title:  Bob\n",
    "items = items.drop( 49109 )\n",
    "## Title:  Aim\n",
    "items = items.drop( 49184 )\n",
    "## Title:  Few\n",
    "items = items.drop( 49591 )\n",
    "## Title:  A M\n",
    "items = items.drop( 49704 )\n",
    "## Title:  War\n",
    "items = items.drop( 50112 )\n",
    "## Title:  Z\n",
    "items = items.drop( 50130 )\n",
    "## Title:  Kim\n",
    "items = items.drop( 51251 )\n",
    "## Title:  Kim\n",
    "items = items.drop( 52784 )\n",
    "## Title:  ANK\n",
    "items = items.drop( 52943 )\n",
    "## Title:  ADA\n",
    "items = items.drop( 53145 )\n",
    "## Title:  Ink\n",
    "items = items.drop( 54822 )\n",
    "## Title:  KAT\n",
    "items = items.drop( 55063 )\n",
    "## Title:  The\n",
    "items = items.drop( 55499 )\n",
    "## Title:  ANA\n",
    "items = items.drop( 55570 )\n",
    "## Title:  PC\n",
    "items = items.drop( 57219 )\n",
    "## Title:  Ray\n",
    "items = items.drop( 59436 )\n",
    "## Title:  Nyx\n",
    "items = items.drop( 59743 )\n",
    "## Title:  Ka\n",
    "items = items.drop( 59756 )\n",
    "## Title:  Reg\n",
    "items = items.drop( 60311 )\n",
    "## Title:  Hex\n",
    "items = items.drop( 60620 )\n",
    "## Title:  ABC\n",
    "items = items.drop( 60681 )\n",
    "## Title:  TEA\n",
    "items = items.drop( 61456 )\n",
    "## Title:  Wi\n",
    "items = items.drop( 61998 )\n",
    "## Title:  Red\n",
    "items = items.drop( 62262 )\n",
    "## Title:  Jo\n",
    "items = items.drop( 62777 )\n",
    "## Title:  Tok\n",
    "items = items.drop( 63018 )\n",
    "## Title:  Ug\n",
    "items = items.drop( 64328 )\n",
    "## Title:  Vic\n",
    "items = items.drop( 64507 )\n",
    "## Title:  FOX\n",
    "items = items.drop( 64785 )\n",
    "## Title:  ISO\n",
    "items = items.drop( 64919 )\n",
    "## Title:  Lu\n",
    "items = items.drop( 65886 )\n",
    "## Title:  Fey\n",
    "items = items.drop( 67625 )\n",
    "## Title:  Fey\n",
    "items = items.drop( 67628 )\n",
    "## Title:  HPI\n",
    "items = items.drop( 67743 )\n",
    "## Title:  Air\n",
    "items = items.drop( 68029 )\n",
    "## Title:  Red\n",
    "items = items.drop( 68476 )\n",
    "## Title:  Mer\n",
    "items = items.drop( 68490 )\n",
    "## Title:  Zoo\n",
    "items = items.drop( 68936 )\n",
    "## Title:  Bee\n",
    "items = items.drop( 69689 )\n",
    "## Title:  PUP\n",
    "items = items.drop( 70156 )\n",
    "## Title:  Été\n",
    "items = items.drop( 71858 )\n",
    "## Title:  Jòn\n",
    "items = items.drop( 71865 )\n",
    "## Title:  Ble\n",
    "items = items.drop( 71876 )\n",
    "## Title:  Ete\n",
    "items = items.drop( 71920 )\n",
    "## Title:  Vèt\n",
    "items = items.drop( 71933 )\n",
    "## Title:  Buk\n",
    "items = items.drop( 72131 )\n",
    "## Title:  Kam\n",
    "items = items.drop( 72461 )\n",
    "## Title:  TBC\n",
    "items = items.drop( 72583 )\n",
    "## Title:  ERA\n",
    "items = items.drop( 72846 )\n",
    "## Title:  H2O\n",
    "items = items.drop( 72850 )\n",
    "## Title:  Kid\n",
    "items = items.drop( 72901 )\n",
    "## Title:  No!\n",
    "items = items.drop( 73228 )\n",
    "## Title:  VTT\n",
    "items = items.drop( 73954 )\n",
    "## Title:  Fix\n",
    "items = items.drop( 74360 )\n",
    "## Title:  Bec\n",
    "items = items.drop( 74598 )\n",
    "## Title:  Zoo\n",
    "items = items.drop( 75554 )\n",
    "## Title:  WTF\n",
    "items = items.drop( 77324 )\n",
    "## Title:  Kim\n",
    "items = items.drop( 77674 )\n",
    "## Title:  Now\n",
    "items = items.drop( 77983 )"
   ]
  },
  {
   "cell_type": "code",
   "execution_count": null,
   "metadata": {},
   "outputs": [],
   "source": [
    "## Using: langdetect\n",
    "\n",
    "from langdetect import detect\n",
    "from langdetect import DetectorFactory\n",
    "\n",
    "DetectorFactory.seed = 0\n",
    "\n",
    "items['language'] = ''\n",
    "\n",
    "myList = items['title']\n",
    "languages = []\n",
    "\n",
    "for text in myList:\n",
    "    languages.append(detect(text))\n",
    "    ##print(text)\n",
    "\n",
    "items['language'] = languages"
   ]
  },
  {
   "cell_type": "code",
   "execution_count": null,
   "metadata": {},
   "outputs": [],
   "source": [
    "## Using: textblob\n",
    "\n",
    "## Seems to be the more accurate method\n",
    "## Limiting calls with the sleep function\n",
    "\n",
    "from textblob import TextBlob\n",
    "import time\n",
    "\n",
    "items['language_textblob'] = ''\n",
    "\n",
    "myList = items['title']\n",
    "languages = []\n",
    "\n",
    "for text in myList:\n",
    "    lang = TextBlob(text)\n",
    "    languages.append(lang.detect_language())\n",
    "    print(text)\n",
    "    time.sleep(0.5) ## To sleep for one second\n",
    "\n",
    "items['language_textblob'] = languages"
   ]
  },
  {
   "cell_type": "code",
   "execution_count": null,
   "metadata": {},
   "outputs": [],
   "source": [
    "items = items.drop(columns=['temp', 'language'])"
   ]
  },
  {
   "cell_type": "code",
   "execution_count": null,
   "metadata": {},
   "outputs": [],
   "source": [
    "items['language'] = items['language_textblob']"
   ]
  },
  {
   "cell_type": "code",
   "execution_count": null,
   "metadata": {},
   "outputs": [],
   "source": [
    "items = items.drop(columns = ['language_textblob'])"
   ]
  },
  {
   "cell_type": "code",
   "execution_count": null,
   "metadata": {},
   "outputs": [],
   "source": [
    "################################\n",
    "## Exporting the new data set ##\n",
    "################################\n",
    "\n",
    "items.to_csv('items_1.csv', index = False, header = True)"
   ]
  }
 ],
 "metadata": {
  "kernelspec": {
   "display_name": "conda_python3",
   "language": "python",
   "name": "conda_python3"
  },
  "language_info": {
   "codemirror_mode": {
    "name": "ipython",
    "version": 3
   },
   "file_extension": ".py",
   "mimetype": "text/x-python",
   "name": "python",
   "nbconvert_exporter": "python",
   "pygments_lexer": "ipython3",
   "version": "3.6.13"
  }
 },
 "nbformat": 4,
 "nbformat_minor": 4
}
